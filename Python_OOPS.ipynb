{
  "nbformat": 4,
  "nbformat_minor": 0,
  "metadata": {
    "colab": {
      "provenance": []
    },
    "kernelspec": {
      "name": "python3",
      "display_name": "Python 3"
    },
    "language_info": {
      "name": "python"
    }
  },
  "cells": [
    {
      "cell_type": "markdown",
      "source": [
        "# Python OOPS\n",
        "# Theory Assignment\n",
        "\n",
        "1. What is Object-Oriented Programming (OOP)?\n",
        "\n",
        "**Ans:** Object-Oriented Programming (OOP) is a programming paradigm based on the concept of \"objects,\" which can contain data (attributes) and code (methods) to manipulate that data.  It emphasizes modularity, reusability, and data encapsulation.\n",
        "\n",
        "2. What is a class in OOP?\n",
        "\n",
        "**Ans:** A class is a blueprint or a template for creating objects.  It defines the attributes (data members) and methods (functions) that objects of that class will have.\n",
        "\n",
        "3. What is an object in OOP?\n",
        "\n",
        "**Ans:** An object is an instance of a class.  It is a concrete entity that has specific values for the attributes defined by the class.\n",
        "\n",
        "4. What is the difference between abstraction and encapsulation?\n",
        "\n",
        "**Ans:**\n",
        "\n",
        "**Abstraction** involves simplifying complex systems by modeling classes appropriate to the problem, hiding unnecessary details from the user.\n",
        "\n",
        "**Encapsulation** is the mechanism of hiding the internal state (attributes) of an object and restricting access to it through methods.\n",
        "\n",
        "5. What are dunder methods in Python?\n",
        "\n",
        "**Ans:** Dunder methods (also called magic methods or special methods) are methods in Python that have double underscores __ at the beginning and end of their names. They are used to define how objects of a class behave in certain situations (e.g., __init__ for initialization, __str__ for string representation).\n",
        "\n",
        "6. Explain the concept of inheritance in OOP.\n",
        "\n",
        "**Ans:** Inheritance is a mechanism that allows a new class (derived or child class) to inherit attributes and methods from an existing class (base or parent class).  It promotes code reuse and the creation of hierarchies of classes.\n",
        "\n",
        "\n",
        "7. What is polymorphism in OOP?\n",
        "\n",
        "**Ans:** Polymorphism is the ability of different objects to respond to the same method call in their own specific ways.  It allows objects of different classes to be treated as objects of a common type.\n",
        "\n",
        "\n",
        "8. How is encapsulation achieved in Python?\n",
        "\n",
        "**Ans:** Encapsulation is achieved in Python by using naming conventions (e.g., using a single underscore _ or a double underscore __ prefix for attributes) to indicate that attributes are intended to be private.  Python doesn't enforce strict private access like some other languages, but these conventions signal to developers that these attributes should not be accessed directly from outside the class.\n",
        "\n",
        "9. What is a constructor in Python?\n",
        "\n",
        "**Ans:** A constructor is a special method called __init__ in Python.  It is automatically called when an object of a class is created.  It is used to initialize the object's attributes.\n",
        "\n",
        "10. What are class and static methods in Python?\n",
        "\n",
        "**Ans:** A class method is a method bound to the class and not the instance of the class. It takes the class itself as the first argument (cls).  It is defined using the @classmethod decorator.\n",
        "\n",
        "A static method is a method bound to the class and not the instance of the class. It doesn't take self or cls as the first argument.  It is defined using the @staticmethod decorator.\n",
        "\n",
        "11. What is method overloading in Python?\n",
        "\n",
        "**Ans:** Method overloading is the ability to define multiple methods with the same name but different parameters within a class.  Python doesn't support traditional method overloading like some other languages. However, you can achieve similar behavior using default arguments, variable-length arguments, or conditional logic within a single method.\n",
        "\n",
        "12. What is method overriding in OOP?\n",
        "\n",
        "**Ans:** Method overriding occurs when a subclass provides a different implementation for a method that is already defined in its superclass.  It allows the subclass to customize the behavior of inherited methods.\n",
        "\n",
        "13.\tWhat is a property decorator in Python?\n",
        "**Ans:**\tThe @property decorator in Python is used to define getter methods for class attributes. It allows you to access instance attributes like regular attributes but with the ability to execute code (like getting or setting values) behind the scenes.   \n",
        "\n",
        "14.\tWhy is polymorphism important in OOP?\n",
        "\n",
        "**Ans:** Polymorphism is important because it allows for flexibility and extensibility in OOP. It enables you to write code that can work with objects of different classes in a unified way, promoting code reuse and reducing complexity.\n",
        "\n",
        "15.\tWhat is an abstract class in Python?\n",
        "\n",
        "**Ans:** An abstract class is a class that cannot be instantiated directly. It serves as a blueprint for other classes. It may contain abstract methods (methods without implementation) that must be implemented by its subclasses. In Python, you create abstract classes using the @abc module.   \n",
        "\n",
        "16.\tWhat are the advantages of OOP?\n",
        "\n",
        "**Ans:**\n",
        "OOP offers several advantages, including:\n",
        "\n",
        "  . Modularity: Breaking down complex problems into smaller, manageable objects.\n",
        "  \n",
        "  . Reusability: Inheritance allows reusing code from existing classes.\n",
        "  \n",
        "  . Encapsulation: Protecting data and controlling access to it.\n",
        "  \n",
        "  . Polymorphism: Writing flexible code that can work with different types of objects.   \n",
        "\n",
        "\n",
        "17.\tWhat is the difference between a class variable and an instance variable?\n",
        "\n",
        "**Ans:**\n",
        "\n",
        "o A class variable is a variable that is shared by all instances (objects) of a class. It is defined within the class but outside any instance method.   \n",
        "\n",
        "o\tAn instance variable is a variable that is unique to each instance of a class. It is defined within the instance methods (e.g., __init__) using self variable_name.\n",
        "\n",
        "18.\tWhat is multiple inheritance in Python?\n",
        "**Ans:** Multiple inheritance is a feature where a class can inherit from more than one base class. Python supports multiple inheritance, allowing a class to inherit attributes and methods from multiple parent classes.   \n",
        "\n",
        "19.\tExplain the purpose of __str__ and __repr__ methods in Python.\n",
        "**Ans:**\n",
        "\n",
        "o The __str__ method is used to provide a human-readable string representation of an object. It is called by the str() function and the print() statement.   \n",
        "\n",
        "o\tThe __repr__ method is used to provide an unambiguous string representation of an object. It is called by the repr() function and is often used for debugging and development. If __str__ is not defined, Python falls back to using __repr__.\n",
        "\n",
        "20.\tWhat is the significance of the super() function in Python?\n",
        "\n",
        "**Ans:** The super() function is used to call methods from a parent class in a subclass. It is particularly useful in inheritance to access overridden methods or to call the parent class's constructor (__init__).   \n",
        "\n",
        "21.\tWhat is the significance of the __del__ method in Python?\n",
        "\n",
        "**Ans:**\n",
        "o\tThe __del__ method is a destructor method in Python. It is called when an object is garbage collected (i.e., when it's no longer being used and the memory is reclaimed).\n",
        "o\tIt's used to perform cleanup actions (e.g., closing files, releasing resources) before an object is destroyed.\n",
        "\n",
        "22.\tWhat is the difference between @staticmethod and @classmethod in Python?\n",
        "\n",
        "**Ans:**\n",
        "@staticmethod: A static method is bound to the class but does not have access to the instance (self) or the class itself (cls). It's essentially a regular function that belongs to the class's namespace.   \n",
        "\n",
        "o\t@classmethod: A class method is bound to the class and receives the class (cls) as the first argument. It can access and modify class-level attributes.   \n",
        "\n",
        "23.\tHow does polymorphism work in Python with inheritance?\n",
        "\n",
        "**Ans:** Polymorphism in Python, in the context of inheritance, is primarily achieved through method overriding. When a subclass overrides a method of its superclass, objects of the subclass can be used where objects of the superclass are expected. When the method is called, the correct version (from the subclass) will be executed. This allows different subclasses to provide their own implementations of a method while still adhering to a common interface.   \n",
        "\n",
        "24.\tWhat is method chaining in Python OOP?\n",
        "\n",
        "**Ans:** Method chaining is a technique where multiple method calls are chained together in a single statement. This is achieved by having each method return the object itself (self). This allows you to call a sequence of methods on the same object in a concise way.\n",
        "\n",
        "25.\tWhat is the purpose of the __call__ method in Python?\n",
        "\n",
        "**Ans:** The __call__ method allows an object of a class to be called as if it were a function. When you \"call\" an object (e.g., obj()), the __call__ method is executed. This is useful for creating objects that have function-like behavior.\n",
        "\n",
        ""
      ],
      "metadata": {
        "id": "O4yPumVN7lQj"
      }
    },
    {
      "cell_type": "markdown",
      "source": [
        "# Practical Questions:"
      ],
      "metadata": {
        "id": "sagQz57pGgbm"
      }
    },
    {
      "cell_type": "code",
      "source": [
        "#1. Create a parent class Animal with a method speak() that prints a generic message. Create a child class Dog that overrides the speak() method to print \"Bark!\".\n",
        "\n",
        "#Solve:\n",
        "\n",
        "class Animal:\n",
        "    def speak(self):\n",
        "        print(\"Generic animal sound\")\n",
        "\n",
        "class Dog:\n",
        "    def speak(self):\n",
        "        print(\"Bark!\")\n",
        "\n",
        "#Example Usage\n",
        "animal = Animal()\n",
        "animal.speak()\n",
        "\n",
        "dog = Dog()\n",
        "dog.speak()"
      ],
      "metadata": {
        "colab": {
          "base_uri": "https://localhost:8080/"
        },
        "id": "oCmJDl_zGc9D",
        "outputId": "38445cb1-2367-4000-8638-249406fc561a"
      },
      "execution_count": 2,
      "outputs": [
        {
          "output_type": "stream",
          "name": "stdout",
          "text": [
            "Generic animal sound\n",
            "Bark!\n"
          ]
        }
      ]
    },
    {
      "cell_type": "code",
      "source": [
        "#2. Write a program to create an abstract class Shape with a method area(). Derive classes Circle and Rectangle from it and implement the area() method in both.\n",
        "#Sol:\n",
        "\n",
        "from abc import ABC, abstractmethod\n",
        "\n",
        "class Shape(ABC):\n",
        "    @abstractmethod\n",
        "    def area(self):\n",
        "        pass\n",
        "\n",
        "class Circle(Shape):\n",
        "    def __init__(self, radius):\n",
        "        self.radius = radius\n",
        "\n",
        "    def area(self):\n",
        "        return 3.14 * self.radius * self.radius\n",
        "\n",
        "class Rectangle(Shape):\n",
        "    def __init__(self, length, width):\n",
        "        self.length = length\n",
        "        self.width = width\n",
        "\n",
        "    def area(self):\n",
        "        return self.length * self.width\n",
        "\n",
        "#Example Usage\n",
        "circle = Circle(5)\n",
        "print(\"Circle Area:\", circle.area())\n",
        "\n",
        "rectangle = Rectangle(4, 6)\n",
        "print(\"Rectangle Area:\", rectangle.area())"
      ],
      "metadata": {
        "colab": {
          "base_uri": "https://localhost:8080/"
        },
        "id": "tJMxysAzG8Pa",
        "outputId": "0e672f90-cda6-4878-e2f4-3b21e90bdc7a"
      },
      "execution_count": 3,
      "outputs": [
        {
          "output_type": "stream",
          "name": "stdout",
          "text": [
            "Circle Area: 78.5\n",
            "Rectangle Area: 24\n"
          ]
        }
      ]
    },
    {
      "cell_type": "code",
      "source": [
        "#3. Implement a multi-level inheritance scenario where a class Vehicle has an attribute type. Derive a class Car and further derive a class ElectricCar that adds a battery attribute.\n",
        "#Sol:\n",
        "\n",
        "class Vehicle:\n",
        "    def __init__(self, type):\n",
        "        self.type = type\n",
        "\n",
        "class Car(Vehicle):\n",
        "    def __init__(self, type, model):\n",
        "        super().__init__(type)\n",
        "        self.model = model\n",
        "\n",
        "class ElectricCar(Car):\n",
        "    def __init__(self, type, model, battery):\n",
        "        super().__init__(type, model)\n",
        "        self.battery = battery\n",
        "\n",
        "#Example Usage\n",
        "vehicle = Vehicle(\"Generic\")\n",
        "car = Car(\"Car\", \"Sedan\")\n",
        "electric_car = ElectricCar(\"Car\", \"Tesla\", \"75kWh\")\n",
        "\n",
        "print(\"Vehicle Type:\", vehicle.type)\n",
        "print(\"Car Type:\", car.type, \"Model:\", car.model)\n",
        "print(\"Electric Car Type:\", electric_car.type, \"Model:\", electric_car.model, \"Battery:\", electric_car.battery)"
      ],
      "metadata": {
        "colab": {
          "base_uri": "https://localhost:8080/"
        },
        "id": "DMT5s-_qHaE7",
        "outputId": "bd623693-1a66-4a0f-d91f-9c8b9659ba3c"
      },
      "execution_count": 4,
      "outputs": [
        {
          "output_type": "stream",
          "name": "stdout",
          "text": [
            "Vehicle Type: Generic\n",
            "Car Type: Car Model: Sedan\n",
            "Electric Car Type: Car Model: Tesla Battery: 75kWh\n"
          ]
        }
      ]
    },
    {
      "cell_type": "code",
      "source": [
        "#4. Demonstrate polymorphism by creating a base class Bird with a method fly(). Create two derived classes Sparrow and Penguin that override the fly() method.\n",
        "#Sol:\n",
        "\n",
        "class Bird:\n",
        "    def fly(self):\n",
        "        print(\"Generic bird flying\")\n",
        "\n",
        "class Sparrow:\n",
        "    def fly(self):\n",
        "        print(\"Sparrow flying\")\n",
        "\n",
        "class Penguin:\n",
        "    def fly(self):\n",
        "        print(\"Penguin can't fly\")\n",
        "\n",
        "#Example Usage\n",
        "bird = Bird()\n",
        "bird.fly()\n",
        "\n",
        "sparrow = Sparrow()\n",
        "sparrow.fly()\n",
        "\n",
        "penguin = Penguin()\n",
        "penguin.fly()"
      ],
      "metadata": {
        "colab": {
          "base_uri": "https://localhost:8080/"
        },
        "id": "efTvXenOH9eZ",
        "outputId": "0705e49f-f737-4996-821b-12a38686c6ad"
      },
      "execution_count": 5,
      "outputs": [
        {
          "output_type": "stream",
          "name": "stdout",
          "text": [
            "Generic bird flying\n",
            "Sparrow flying\n",
            "Penguin can't fly\n"
          ]
        }
      ]
    },
    {
      "cell_type": "code",
      "source": [
        "#5. Write a program to demonstrate encapsulation by creating a class BankAccount with private attributes balance and methods to deposit, withdraw, and check balance.\n",
        "#Sol:\n",
        "\n",
        "class Bankaccount:\n",
        "  def __init__(self,balance):\n",
        "    self.__balance = balance\n",
        "  def deposit(self,amount):\n",
        "    self.__balance = self.__balance + amount\n",
        "  def withdraw(self,amount):\n",
        "    if amount <= self.__balance:\n",
        "      self.__balance = self.__balance - amount\n",
        "    else:\n",
        "      print(\"Insufficient balance\")\n",
        "\n",
        "  def check_balance(self):\n",
        "    return self.__balance\n",
        "\n",
        "account = Bankaccount(1000)\n",
        "print(\"Current Balance:\", account.check_balance())\n",
        "account.deposit(500)\n",
        "print(\"Current Balance:\", account.check_balance())\n",
        "account.withdraw(200)\n",
        "print(\"Current Balance:\", account.check_balance())\n",
        "account.withdraw(2000)"
      ],
      "metadata": {
        "colab": {
          "base_uri": "https://localhost:8080/"
        },
        "id": "eBcxXPJtJwXJ",
        "outputId": "4c12fda1-ab89-44b3-9164-dba643ac9337"
      },
      "execution_count": 7,
      "outputs": [
        {
          "output_type": "stream",
          "name": "stdout",
          "text": [
            "Current Balance: 1000\n",
            "Current Balance: 1500\n",
            "Current Balance: 1300\n",
            "Insufficient balance\n"
          ]
        }
      ]
    },
    {
      "cell_type": "code",
      "source": [
        "# 6. Demonstrate runtime polymorphism using a method play() in a base class Instrument. Derive classes Guitar and Piano that implement their own version of play().\n",
        "#Sol:\n",
        "class Instrument:\n",
        "    def play(self):\n",
        "        print(\"Generic instrument sound\")\n",
        "\n",
        "class Guitar:\n",
        "    def play(self):\n",
        "        print(\"Guitar playing\")\n",
        "\n",
        "class Piano:\n",
        "    def play(self):\n",
        "        print(\"Piano playing\")\n",
        "\n",
        "#Example Usage\n",
        "instruments = [Guitar(), Piano()]\n",
        "\n",
        "for instrument in instruments:\n",
        "    instrument.play()"
      ],
      "metadata": {
        "colab": {
          "base_uri": "https://localhost:8080/"
        },
        "id": "G6PMmxFOLj0a",
        "outputId": "f9a9bbed-c199-4b11-b633-01d1021ad105"
      },
      "execution_count": 8,
      "outputs": [
        {
          "output_type": "stream",
          "name": "stdout",
          "text": [
            "Guitar playing\n",
            "Piano playing\n"
          ]
        }
      ]
    },
    {
      "cell_type": "code",
      "source": [
        "#7.Create a class MathOperations with a class method add_numbers() to add two numbers and a static method subtract_numbers() to subtract two numbers.\n",
        "#SOl:\n",
        "class MathOperations:\n",
        "    @classmethod\n",
        "    def add_numbers(cls, x, y):\n",
        "        return x + y\n",
        "\n",
        "    @staticmethod\n",
        "    def subtract_numbers(x, y):\n",
        "        return x - y\n",
        "\n",
        "#Example Usage\n",
        "print(\"Sum:\", MathOperations.add_numbers(5, 3))\n",
        "print(\"Difference:\", MathOperations.subtract_numbers(10, 4))"
      ],
      "metadata": {
        "colab": {
          "base_uri": "https://localhost:8080/"
        },
        "id": "artfTtRh7VC5",
        "outputId": "c7cffd4c-c536-4c7f-db5c-bd4653509228"
      },
      "execution_count": 1,
      "outputs": [
        {
          "output_type": "stream",
          "name": "stdout",
          "text": [
            "Sum: 8\n",
            "Difference: 6\n"
          ]
        }
      ]
    },
    {
      "cell_type": "code",
      "source": [
        "#8. Implement a class Person with a class method to count the total number of persons created.\n",
        "#Sol:\n",
        "\n",
        "class Person:\n",
        "    count = 0  # Class variable to count instances\n",
        "\n",
        "    def __init__(self, name):\n",
        "        self.name = name\n",
        "        Person.count = Person.count + 1\n",
        "\n",
        "    @classmethod\n",
        "    def get_person_count(cls):\n",
        "        return cls.count\n",
        "\n",
        "#Example Usage\n",
        "person1 = Person(\"Alice\")\n",
        "person2 = Person(\"Bob\")\n",
        "person3 = Person(\"Charlie\")\n",
        "\n",
        "print(\"Total Persons:\", Person.get_person_count())"
      ],
      "metadata": {
        "colab": {
          "base_uri": "https://localhost:8080/"
        },
        "id": "Z2O2Ksmw7w6Q",
        "outputId": "894c2618-a05a-456c-c00b-b62912e1aa24"
      },
      "execution_count": 2,
      "outputs": [
        {
          "output_type": "stream",
          "name": "stdout",
          "text": [
            "Total Persons: 3\n"
          ]
        }
      ]
    },
    {
      "cell_type": "code",
      "source": [
        "#9. Write a class Fraction with attributes numerator and denominator. Override the __str__ method to display the fraction as \"numerator/denominator\".\n",
        "#Sol:\n",
        "class Fraction:\n",
        "    def __init__(self, numerator, denominator):\n",
        "        self.numerator = numerator\n",
        "        self.denominator = denominator\n",
        "\n",
        "    def __str__(self):\n",
        "        return f\"{self.numerator}/{self.denominator}\"\n",
        "\n",
        "#Example Usage\n",
        "fraction = Fraction(3, 4)\n",
        "print(fraction)"
      ],
      "metadata": {
        "colab": {
          "base_uri": "https://localhost:8080/"
        },
        "id": "tBElMuIB8M-N",
        "outputId": "71f4d780-b560-4ce5-9298-5ef7bc30ec15"
      },
      "execution_count": 3,
      "outputs": [
        {
          "output_type": "stream",
          "name": "stdout",
          "text": [
            "3/4\n"
          ]
        }
      ]
    },
    {
      "cell_type": "code",
      "source": [
        "#10. Demonstrate operator overloading by creating a class Vector and overriding the add method to add two vectors\n",
        "#Sol:\n",
        "class Vector:\n",
        "    def __init__(self, x, y):\n",
        "        self.x = x\n",
        "        self.y = y\n",
        "\n",
        "    def __add__(self, other):\n",
        "        return Vector(self.x + other.x, self.y + other.y)\n",
        "\n",
        "    def __str__(self):\n",
        "        return f\"({self.x}, {self.y})\"\n",
        "\n",
        "#Example Usage\n",
        "v1 = Vector(2, 4)\n",
        "v2 = Vector(1, 3)\n",
        "v3 = v1 + v2\n",
        "print(v3)"
      ],
      "metadata": {
        "colab": {
          "base_uri": "https://localhost:8080/"
        },
        "id": "r7WTMENt8lEB",
        "outputId": "d7de1634-e89b-40fc-cb68-d5abc23e9170"
      },
      "execution_count": 4,
      "outputs": [
        {
          "output_type": "stream",
          "name": "stdout",
          "text": [
            "(3, 7)\n"
          ]
        }
      ]
    },
    {
      "cell_type": "code",
      "source": [
        "#11. Create a class Person with attributes name and age. Add a method greet() that prints \"Hello, my name is {name} and I am {age} years old.\"\n",
        "#Sol:\n",
        "class Person:\n",
        "    def __init__(self, name, age):\n",
        "        self.name = name\n",
        "        self.age = age\n",
        "\n",
        "    def greet(self):\n",
        "        print(f\"Hello, my name is {self.name} and I am {self.age} years old.\")\n",
        "\n",
        "#Example Usage\n",
        "person = Person(\"John\", 30)\n",
        "person.greet()"
      ],
      "metadata": {
        "colab": {
          "base_uri": "https://localhost:8080/"
        },
        "id": "0agLtga6828z",
        "outputId": "124ac2f8-bef7-4b89-e9a7-c106681be516"
      },
      "execution_count": 5,
      "outputs": [
        {
          "output_type": "stream",
          "name": "stdout",
          "text": [
            "Hello, my name is John and I am 30 years old.\n"
          ]
        }
      ]
    },
    {
      "cell_type": "code",
      "source": [
        "#12. Implement a class Student with attributes name and grades. Create a method average_grade() to compute the average of the grades.\n",
        "#Sol:\n",
        "class Student:\n",
        "    def __init__(self, name, grades):\n",
        "        self.name = name\n",
        "        self.grades = grades\n",
        "\n",
        "    def average_grade(self):\n",
        "        if self.grades:\n",
        "            return sum(self.grades) / len(self.grades)\n",
        "        else:\n",
        "            return 0\n",
        "\n",
        "#Example Usage\n",
        "student = Student(\"Alice\", [85, 90, 78, 92])\n",
        "print(\"Average Grade:\", student.average_grade())"
      ],
      "metadata": {
        "colab": {
          "base_uri": "https://localhost:8080/"
        },
        "id": "4kjmF1l_9EUA",
        "outputId": "dd168bee-55df-44ec-f93e-db8a6ec090c9"
      },
      "execution_count": 6,
      "outputs": [
        {
          "output_type": "stream",
          "name": "stdout",
          "text": [
            "Average Grade: 86.25\n"
          ]
        }
      ]
    },
    {
      "cell_type": "code",
      "source": [
        "#13. Create a class Rectangle with methods set_dimensions() to set the dimensions and area() to calculate the area.\n",
        "#Sol:\n",
        "class Rectangle:\n",
        "    def __init__(self):\n",
        "        self.length = 0\n",
        "        self.width = 0\n",
        "\n",
        "    def set_dimensions(self, length, width):\n",
        "        self.length = length\n",
        "        self.width = width\n",
        "\n",
        "    def area(self):\n",
        "        return self.length * self.width\n",
        "\n",
        "#Example Usage\n",
        "rectangle = Rectangle()\n",
        "rectangle.set_dimensions(5, 10)\n",
        "print(\"Rectangle Area:\", rectangle.area())"
      ],
      "metadata": {
        "colab": {
          "base_uri": "https://localhost:8080/"
        },
        "id": "BnubvuUW9YfD",
        "outputId": "1f820e79-45b1-43ec-a5d5-248e0e550659"
      },
      "execution_count": 7,
      "outputs": [
        {
          "output_type": "stream",
          "name": "stdout",
          "text": [
            "Rectangle Area: 50\n"
          ]
        }
      ]
    },
    {
      "cell_type": "code",
      "source": [
        "#14.  Create a class Employee with a method calculate_salary() that computes the salary based on hours worked and hourly rate. Create a derived class Manager that adds a bonus to the salary.\n",
        "#Sol:\n",
        "class Employee:\n",
        "    def __init__(self, hours_worked, hourly_rate):\n",
        "        self.hours_worked = hours_worked\n",
        "        self.hourly_rate = hourly_rate\n",
        "\n",
        "    def calculate_salary(self):\n",
        "        return self.hours_worked * self.hourly_rate\n",
        "\n",
        "class Manager(Employee):\n",
        "    def __init__(self, hours_worked, hourly_rate, bonus):\n",
        "        super().__init__(hours_worked, hourly_rate)\n",
        "        self.bonus = bonus\n",
        "\n",
        "    def calculate_salary(self):\n",
        "        base_salary = super().calculate_salary()\n",
        "        return base_salary + self.bonus\n",
        "\n",
        "#Example Usage\n",
        "employee = Employee(40, 25)\n",
        "print(\"Employee Salary:\", employee.calculate_salary())\n",
        "\n",
        "manager = Manager(40, 35, 1000)\n",
        "print(\"Manager Salary:\", manager.calculate_salary())"
      ],
      "metadata": {
        "colab": {
          "base_uri": "https://localhost:8080/"
        },
        "id": "C0BUiZx-9mLZ",
        "outputId": "d8683b38-cc07-4f77-d41a-8a3b51736a62"
      },
      "execution_count": 8,
      "outputs": [
        {
          "output_type": "stream",
          "name": "stdout",
          "text": [
            "Employee Salary: 1000\n",
            "Manager Salary: 2400\n"
          ]
        }
      ]
    },
    {
      "cell_type": "code",
      "source": [
        "#15. Create a class Product with attributes name, price, and quantity. Implement a method total_price() that calculates the total price of the product.\n",
        "#Sol:\n",
        "class Product:\n",
        "    def __init__(self, name, price, quantity):\n",
        "        self.name = name\n",
        "        self.price = price\n",
        "        self.quantity = quantity\n",
        "\n",
        "    def total_price(self):\n",
        "        return self.price * self.quantity\n",
        "\n",
        "product = Product(\"Laptop\", 1000, 2)\n",
        "print(\"Total Price:\", product.total_price())"
      ],
      "metadata": {
        "colab": {
          "base_uri": "https://localhost:8080/"
        },
        "id": "lqpZoxxG97qz",
        "outputId": "fc363050-2d32-4510-8a73-595d64ddd452"
      },
      "execution_count": 9,
      "outputs": [
        {
          "output_type": "stream",
          "name": "stdout",
          "text": [
            "Total Price: 2000\n"
          ]
        }
      ]
    },
    {
      "cell_type": "code",
      "source": [
        "#16.Create a class Animal with an abstract method sound(). Create two derived classes Cow and Sheep that implement the sound() method.\n",
        "#Sol:\n",
        "\n",
        "from abc import ABC, abstractmethod\n",
        "\n",
        "class Animal(ABC):\n",
        "    @abstractmethod\n",
        "    def sound(self):\n",
        "        pass\n",
        "\n",
        "class Cow(Animal):\n",
        "    def sound(self):\n",
        "        print(\"Cow moos\")\n",
        "\n",
        "class Sheep(Animal):\n",
        "    def sound(self):\n",
        "        print(\"Sheep baas\")\n",
        "\n",
        "#Example Usage\n",
        "cow = Cow()\n",
        "cow.sound()\n",
        "\n",
        "sheep = Sheep()\n",
        "sheep.sound()"
      ],
      "metadata": {
        "colab": {
          "base_uri": "https://localhost:8080/"
        },
        "id": "As7HOvt6-Unm",
        "outputId": "17594dc8-09fa-43e9-c8e0-df1cbfb00767"
      },
      "execution_count": 10,
      "outputs": [
        {
          "output_type": "stream",
          "name": "stdout",
          "text": [
            "Cow moos\n",
            "Sheep baas\n"
          ]
        }
      ]
    },
    {
      "cell_type": "code",
      "source": [
        "#17. Create a class Book with attributes title, author, and year_published. Add a method get_book_info() that returns a formatted string with the book's details.\n",
        "#Sol:\n",
        "class Book:\n",
        "    def __init__(self, title, author, year_published):\n",
        "        self.title = title\n",
        "        self.author = author\n",
        "        self.year_published = year_published\n",
        "\n",
        "    def get_book_info(self):\n",
        "        return f\"Title: {self.title}, Author: {self.author}, Year Published: {self.year_published}\"\n",
        "\n",
        "#Example Usage\n",
        "book = Book(\"The Great Gatsby\", \"F. Scott Fitzgerald\", 1925)\n",
        "print(book.get_book_info())"
      ],
      "metadata": {
        "colab": {
          "base_uri": "https://localhost:8080/"
        },
        "id": "4CDLByUq-nSF",
        "outputId": "75a7339a-8996-438f-f900-dd8ae29f0a7f"
      },
      "execution_count": 11,
      "outputs": [
        {
          "output_type": "stream",
          "name": "stdout",
          "text": [
            "Title: The Great Gatsby, Author: F. Scott Fitzgerald, Year Published: 1925\n"
          ]
        }
      ]
    },
    {
      "cell_type": "code",
      "source": [
        "#18. Create a class House with attributes address and price. Create a derived class Mansion that adds an attribute number_of_rooms.\n",
        "#sol:\n",
        "class House:\n",
        "    def __init__(self, address, price):\n",
        "        self.address = address\n",
        "        self.price = price\n",
        "\n",
        "class Mansion(House):\n",
        "    def __init__(self, address, price, number_of_rooms):\n",
        "        super().__init__(address, price)\n",
        "        self.number_of_rooms = number_of_rooms\n",
        "\n",
        "#Example Usage\n",
        "house = House(\"Civil Lines Allahabad\", 250000)\n",
        "mansion = Mansion(\"Geeta Niwas\", 1500000, 10)\n",
        "\n",
        "print(\"House Address:\", house.address, \"Price:\", house.price)\n",
        "print(\"Mansion Address:\", mansion.address, \"Price:\", mansion.price, \"Rooms:\", mansion.number_of_rooms)"
      ],
      "metadata": {
        "colab": {
          "base_uri": "https://localhost:8080/"
        },
        "id": "WYHyRLJq-6yW",
        "outputId": "ddbef95e-389a-4630-d046-96161817c8e2"
      },
      "execution_count": 13,
      "outputs": [
        {
          "output_type": "stream",
          "name": "stdout",
          "text": [
            "House Address: Civil Lines Allahabad Price: 250000\n",
            "Mansion Address: Geeta Niwas Price: 1500000 Rooms: 10\n"
          ]
        }
      ]
    }
  ]
}